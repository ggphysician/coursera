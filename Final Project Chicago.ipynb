{
 "cells": [
  {
   "cell_type": "markdown",
   "id": "5268e3d7",
   "metadata": {},
   "source": [
    "</center>\n",
    "\n",
    "<h1 align=center><font size = 5>Assignment: Notebook for Graded Assessment</font></h1>"
   ]
  },
  {
   "cell_type": "markdown",
   "id": "a12923ce",
   "metadata": {},
   "source": [
    "# Introduction\n",
    "\n",
    "This is a notebook reviewing code for reviewing Chicaog Data Set\n",
    "\n",
    "# Understand the datasets\n",
    "\n",
    "To complete the project the following data sets were used:\n",
    "1.  <a href=\"https://data.cityofchicago.org/Health-Human-Services/Census-Data-Selected-socioeconomic-indicators-in-C/kn9c-c2s2?utm_medium=Exinfluencer&utm_source=Exinfluencer&utm_content=000026UJ&utm_term=10006555&utm_id=NA-SkillsNetwork-Channel-SkillsNetworkCoursesIBMDeveloperSkillsNetworkDB0201ENSkillsNetwork20127838-2021-01-01\">Socioeconomic Indicators in Chicago</a>\n",
    "2.  <a href=\"https://data.cityofchicago.org/Education/Chicago-Public-Schools-Progress-Report-Cards-2011-/9xs2-f89t?utm_medium=Exinfluencer&utm_source=Exinfluencer&utm_content=000026UJ&utm_term=10006555&utm_id=NA-SkillsNetwork-Channel-SkillsNetworkCoursesIBMDeveloperSkillsNetworkDB0201ENSkillsNetwork20127838-2021-01-01\">Chicago Public Schools</a>\n",
    "3.  <a href=\"https://data.cityofchicago.org/Public-Safety/Crimes-2001-to-present/ijzp-q8t2?utm_medium=Exinfluencer&utm_source=Exinfluencer&utm_content=000026UJ&utm_term=10006555&utm_id=NA-SkillsNetwork-Channel-SkillsNetworkCoursesIBMDeveloperSkillsNetworkDB0201ENSkillsNetwork20127838-2021-01-01\">Chicago Crime Data</a>\n",
    "\n",
    "### 1. Socioeconomic Indicators in Chicago\n",
    "\n",
    "This dataset contains a selection of six socioeconomic indicators of public health significance and a “hardship index,” for each Chicago community area, for the years 2008 – 2012.\n",
    "\n",
    "A detailed description of this dataset and the original dataset can be obtained from the Chicago Data Portal at:\n",
    "\n",
    "[https://data.cityofchicago.org/Health-Human-Services/Census-Data-Selected-socioeconomic-indicators-in-C/kn9c-c2s2](https://data.cityofchicago.org/Health-Human-Services/Census-Data-Selected-socioeconomic-indicators-in-C/kn9c-c2s2?utm_medium=Exinfluencer&utm_source=Exinfluencer&utm_content=000026UJ&utm_term=10006555&utm_id=NA-SkillsNetwork-Channel-SkillsNetworkCoursesIBMDeveloperSkillsNetworkDB0201ENSkillsNetwork20127838-2021-01-01&cm_mmc=Email_Newsletter-\\_-Developer_Ed%2BTech-\\_-WW_WW-\\_-SkillsNetwork-Courses-IBMDeveloperSkillsNetwork-DB0201EN-SkillsNetwork-20127838&cm_mmca1=000026UJ&cm_mmca2=10006555&cm_mmca3=M12345678&cvosrc=email.Newsletter.M12345678&cvo_campaign=000026UJ)\n",
    "\n",
    "### 2. Chicago Public Schools\n",
    "\n",
    "This dataset shows all school level performance data used to create CPS School Report Cards for the 2011-2012 school year. This dataset is provided by the city of Chicago's Data Portal.\n",
    "\n",
    "A detailed description of this dataset and the original dataset can be obtained from the Chicago Data Portal at:\n",
    "\n",
    "[https://data.cityofchicago.org/Education/Chicago-Public-Schools-Progress-Report-Cards-2011-/9xs2-f89t](https://data.cityofchicago.org/Education/Chicago-Public-Schools-Progress-Report-Cards-2011-/9xs2-f89t?utm_medium=Exinfluencer&utm_source=Exinfluencer&utm_content=000026UJ&utm_term=10006555&utm_id=NA-SkillsNetwork-Channel-SkillsNetworkCoursesIBMDeveloperSkillsNetworkDB0201ENSkillsNetwork20127838-2021-01-01&cm_mmc=Email_Newsletter-\\_-Developer_Ed%2BTech-\\_-WW_WW-\\_-SkillsNetwork-Courses-IBMDeveloperSkillsNetwork-DB0201EN-SkillsNetwork-20127838&cm_mmca1=000026UJ&cm_mmca2=10006555&cm_mmca3=M12345678&cvosrc=email.Newsletter.M12345678&cvo_campaign=000026UJ)\n",
    "\n",
    "### 3. Chicago Crime Data\n",
    "\n",
    "This dataset reflects reported incidents of crime (with the exception of murders where data exists for each victim) that occurred in the City of Chicago from 2001 to present, minus the most recent seven days.\n",
    "\n",
    "A detailed description of this dataset and the original dataset can be obtained from the Chicago Data Portal at:\n",
    "\n",
    "[https://data.cityofchicago.org/Public-Safety/Crimes-2001-to-present/ijzp-q8t2](https://data.cityofchicago.org/Public-Safety/Crimes-2001-to-present/ijzp-q8t2?utm_medium=Exinfluencer&utm_source=Exinfluencer&utm_content=000026UJ&utm_term=10006555&utm_id=NA-SkillsNetwork-Channel-SkillsNetworkCoursesIBMDeveloperSkillsNetworkDB0201ENSkillsNetwork20127838-2021-01-01&cm_mmc=Email_Newsletter-\\_-Developer_Ed%2BTech-\\_-WW_WW-\\_-SkillsNetwork-Courses-IBMDeveloperSkillsNetwork-DB0201EN-SkillsNetwork-20127838&cm_mmca1=000026UJ&cm_mmca2=10006555&cm_mmca3=M12345678&cvosrc=email.Newsletter.M12345678&cvo_campaign=000026UJ)\n"
   ]
  },
  {
   "cell_type": "markdown",
   "id": "a30bf5f1",
   "metadata": {},
   "source": [
    "# Solves\n",
    "\n",
    "Two distinct approaches were employed to address the data queries. The first method involved direct querying of the relational database using SQL and will be documented here in <font color = \"red\"> mySQL language </font>. The second method consisted of extracting the data from the SQL database and transforming it into a pandas DataFrame for subsequent querying and analysis within a Python environment. <br>\n",
    "\n",
    "This is an example of how to solve the same queries using different logic and different code.  "
   ]
  },
  {
   "cell_type": "markdown",
   "id": "d4900207",
   "metadata": {},
   "source": [
    "## Preparing Database\n",
    "\n",
    "CSV files were downloaded and imported into mySQL.  Tables were renamed \"census\", \"crime\", and \"schools\" to decrease typing.\n",
    "\n"
   ]
  },
  {
   "cell_type": "markdown",
   "id": "5c5af355",
   "metadata": {},
   "source": [
    "## Initiating Necessary Libraries\n",
    "\n",
    "To begin working with our data, we need to import the required Python libraries. This step ensures that we have access to the functions and tools necessary for database interaction and data manipulation. We will install the libraries if they are not already present in our environment and then import them into our Jupyter Notebook."
   ]
  },
  {
   "cell_type": "code",
   "execution_count": null,
   "id": "84eb9446",
   "metadata": {},
   "outputs": [],
   "source": [
    "!pip install pandas\n",
    "!pip install sqlalchemy\n",
    "!pip install mysql.connector\n",
    "\n",
    "import mysql.connector\n",
    "from mysql.connector import Error\n",
    "import pandas as pd\n",
    "from sqlalchemy import create_engine"
   ]
  },
  {
   "cell_type": "markdown",
   "id": "4b90e7ae",
   "metadata": {},
   "source": [
    "# Connecting to SQL Database and Importing Data into Panda Objects  \n",
    "  \n",
    "This is a new method of utilizing sqlalchemy library to assist in making the connection and closing the connection.  "
   ]
  },
  {
   "cell_type": "code",
   "execution_count": null,
   "id": "6d83d4ae",
   "metadata": {},
   "outputs": [],
   "source": [
    "# STEP 1: Set your MySQL credentials and DB info, use your settings\n",
    "\n",
    "user = 'root'\n",
    "password = ''\n",
    "host = 'localhost'\n",
    "port = 3306\n",
    "database = 'chicago'\n",
    "\n",
    "connection_str = f'mysql+mysqlconnector://{user}:{password}@{host}:{port}/{database}'\n",
    "\n",
    "engine = create_engine(connection_str)\n",
    "\n",
    "conn = None\n",
    "\n",
    "df_census = pd.read_sql_table('census', con = engine)\n",
    "df_crime = pd.read_sql_table('crime', con = engine)\n",
    "df_schools = pd.read_sql_table('schools', con = engine)"
   ]
  },
  {
   "cell_type": "markdown",
   "id": "329f4585",
   "metadata": {},
   "source": [
    "# <font color =\"green\">Query 1: Find the total number of crimes recorded in the CRIME table. </font>"
   ]
  },
  {
   "cell_type": "markdown",
   "id": "eabdfd11",
   "metadata": {},
   "source": [
    "<font color = \"red\">SELECT COUNT(*) as TOTAL_CRIMES  \n",
    "FROM crime;</font>"
   ]
  },
  {
   "cell_type": "code",
   "execution_count": null,
   "id": "dd54ddbc",
   "metadata": {},
   "outputs": [],
   "source": [
    "\n",
    "# Use the .shape attribute to get the number of rows (which represents the total number of crimes)\n",
    "total_crimes = df_crime.shape[0]\n",
    "\n",
    "# You can then print the result\n",
    "print(f\"Total Crimes: {total_crimes}\")"
   ]
  },
  {
   "cell_type": "markdown",
   "id": "f1999726",
   "metadata": {},
   "source": [
    "# <font color =\"green\">Query 2: List community area names and numbers with per capita income less than 11000. </font>"
   ]
  },
  {
   "cell_type": "markdown",
   "id": "f6bae366",
   "metadata": {},
   "source": [
    "<font color = red>\n",
    "SELECT community_area_number, community_area_name, per_capita_income  <br>\n",
    "FROM census  <br>\n",
    "WHERE per_capita_income < 11000;\n",
    "</font>"
   ]
  },
  {
   "cell_type": "code",
   "execution_count": null,
   "id": "b6c714f6",
   "metadata": {},
   "outputs": [],
   "source": [
    "#list community area names with per capita income > 11000\n",
    "high_income_areas_info = df_census[df_census[\"PER_CAPITA_INCOME\"] > 11000][[\"COMMUNITY_AREA_NAME\", \"COMMUNITY_AREA_NUMBER\", \"PER_CAPITA_INCOME\"]]\n",
    "print(high_income_areas)"
   ]
  },
  {
   "cell_type": "markdown",
   "id": "9382c88b",
   "metadata": {},
   "source": [
    "# <font color = \"green\"> Query 3: List all case numbers for crimes involving minors? </font>"
   ]
  },
  {
   "cell_type": "markdown",
   "id": "e05c1fd5",
   "metadata": {},
   "source": [
    "<font color = \"red\"> SELECT id, case_number, primary_type, description <br>\n",
    "FROM crime <br>\n",
    "WHERE description LIKE '%minor%';"
   ]
  },
  {
   "cell_type": "code",
   "execution_count": null,
   "id": "67f49cb2",
   "metadata": {},
   "outputs": [],
   "source": [
    "# Use the .str.contains() method on the 'description' column to filter rows\n",
    "# where the description contains the word 'minor' (case-insensitive by default)\n",
    "minor_crime_df = df_crime[df_crime['description'].str.contains('minor', case=False)]\n",
    "\n",
    "# Select the desired columns ('id', 'case_number', 'primary_type', 'description')\n",
    "selected_columns_df = minor_crime_df[['id', 'case_number', 'primary_type', 'description']]\n",
    "\n",
    "# You can now print the resulting DataFrame\n",
    "print(selected_columns_df)"
   ]
  },
  {
   "cell_type": "markdown",
   "id": "3c2444a6",
   "metadata": {},
   "source": [
    "# <font color = \"green\">Query 4: List all kidnapping crimes involving a child."
   ]
  },
  {
   "cell_type": "markdown",
   "id": "60278048",
   "metadata": {},
   "source": [
    "<font color = \"red\"> SELECT DISTINCT case_number, primary_type, date, description <br>\n",
    "FROM crime <br>\n",
    "WHERE primary_type = 'kidnapping'; </font>"
   ]
  },
  {
   "cell_type": "code",
   "execution_count": null,
   "id": "7c3705cd",
   "metadata": {},
   "outputs": [],
   "source": [
    "# Filter the DataFrame where the 'primary_type' column is equal to 'KIDNAPPING'\n",
    "kidnapping_df = df_crime[df_crime['primary_type'] == 'KIDNAPPING']\n",
    "\n",
    "# Select the desired columns ('case_number', 'primary_type', 'date', 'description')\n",
    "selected_columns_df = kidnapping_df[['case_number', 'primary_type', 'date', 'description']]\n",
    "\n",
    "# Get the distinct rows based on the selected columns\n",
    "distinct_kidnapping_df = selected_columns_df.drop_duplicates()\n",
    "\n",
    "# You can now print the resulting DataFrame with distinct kidnapping cases\n",
    "print(distinct_kidnapping_df)"
   ]
  },
  {
   "cell_type": "markdown",
   "id": "d137f6e0",
   "metadata": {},
   "source": [
    "# <font color = \"green\"> Query 5: List the kind of crimes that were recorded at schools. (No repetitions)"
   ]
  },
  {
   "cell_type": "markdown",
   "id": "e58ce819",
   "metadata": {},
   "source": [
    "<font color = \"red\"> SELECT primary_type, ANY_VALUE(location_description) as location <br>\n",
    "FROM crime <br>\n",
    "WHERE location_description like '%school%' <br>\n",
    "GROUP BY primary_type <br>\n",
    "ORDER BY primary_type;"
   ]
  },
  {
   "cell_type": "code",
   "execution_count": null,
   "id": "59648d4f",
   "metadata": {},
   "outputs": [],
   "source": [
    "# Filter for crimes where the location_description contains 'school' (case-insensitive)\n",
    "school_crimes_df = df_crime[df_crime['location_description'].str.contains('school', case=False)]\n",
    "\n",
    "# Select the 'primary_type' and 'location_description' columns\n",
    "selected_columns_df = school_crimes_df[['primary_type', 'location_description']]\n",
    "\n",
    "# Get distinct rows based on the combination of 'primary_type' and 'location_description'\n",
    "distinct_school_crimes_df = selected_columns_df.drop_duplicates(subset=['primary_type', 'location_description'])\n",
    "\n",
    "# Sort the result by 'primary_type'\n",
    "sorted_distinct_school_crimes_df = distinct_school_crimes_df.sort_values(by='primary_type')\n",
    "\n",
    "# Print the resulting DataFrame\n",
    "print(sorted_distinct_school_crimes_df)"
   ]
  },
  {
   "cell_type": "markdown",
   "id": "f762e622",
   "metadata": {},
   "source": [
    "# <font color = \"green\"> Query 6: List the type of schools along with the average safety score for each type."
   ]
  },
  {
   "cell_type": "markdown",
   "id": "d7252498",
   "metadata": {},
   "source": [
    "<font color = \"red\">SELECT \"Elementary, Middle, or High School\", avg(safety_score) <br>\n",
    "FROM schools <br>\n",
    "GROUP BY \"Elementary, Middle, or High School\";"
   ]
  },
  {
   "cell_type": "code",
   "execution_count": null,
   "id": "8a40481e",
   "metadata": {},
   "outputs": [],
   "source": [
    "# Group the DataFrame by the column \"Elementary, Middle, or High School\"\n",
    "grouped_schools = df_schools.groupby(\"Elementary, Middle, or High School\")\n",
    "\n",
    "# Calculate the average of the 'safety_score' for each group\n",
    "average_safety_scores = grouped_schools['safety_score'].mean()\n",
    "\n",
    "# Create a new DataFrame to display the results\n",
    "average_safety_df = pd.DataFrame({\n",
    "    \"Elementary, Middle, or High School\": average_safety_scores.index,\n",
    "    \"average_safety_score\": average_safety_scores.values\n",
    "})\n",
    "\n",
    "# Print the resulting DataFrame\n",
    "print(average_safety_df)\n"
   ]
  },
  {
   "cell_type": "markdown",
   "id": "77bb8612",
   "metadata": {},
   "source": [
    "# <font color = \"green\"> Query 7: List 5 community areas with highest % of households below poverty line."
   ]
  },
  {
   "cell_type": "markdown",
   "id": "10ea0b07",
   "metadata": {},
   "source": [
    "<FONT COLOR = \"red\"> SELECT community_area_name, percent_households_below_poverty <br>\n",
    "FROM census <br>\n",
    "ORDER BY percent_households_below_poverty DESC <br>\n",
    "LIMIT 5;"
   ]
  },
  {
   "cell_type": "code",
   "execution_count": null,
   "id": "1e91e2b8",
   "metadata": {},
   "outputs": [],
   "source": [
    "poverty = df_census.sort_values(by=\"PERCENT_HOUSEHOLDS_BELOW_POVERTY\", ascending = False)[\"COMMUNITY_AREA_NAME\"].head(5)\n",
    "print(poverty)"
   ]
  },
  {
   "cell_type": "markdown",
   "id": "f147f0bd",
   "metadata": {},
   "source": [
    "# <font color = \"green\"> Query 8: Which community area is most crime prone?  Display the community area number only."
   ]
  },
  {
   "cell_type": "markdown",
   "id": "5e1617a0",
   "metadata": {},
   "source": [
    "<font color = \"red\"> SELECT community_area_number, COUNT(community_area_number) AS Frequency <br>\n",
    "FROM crime <br>\n",
    "GROUP BY community_area_number <br>\n",
    "ORDER BY COUNT(coummunity_area_number) DESC <br>\n",
    "LIMIT 1;"
   ]
  },
  {
   "cell_type": "code",
   "execution_count": null,
   "id": "c24ac1e1",
   "metadata": {},
   "outputs": [],
   "source": [
    "crime_prone = df_crime.groupby(\"COMMUNITY_AREA_NUMBER\").size()\n",
    "most_crime = crime_prone[crime_prone == crime_prone.max()]\n",
    "print(most_crime)"
   ]
  },
  {
   "cell_type": "markdown",
   "id": "b4ae56b5",
   "metadata": {},
   "source": [
    "# <font color = \"green\">Query 9: Use a sub-query to find the name of the community area with highest hardship index. "
   ]
  },
  {
   "cell_type": "markdown",
   "id": "f4b9695a",
   "metadata": {},
   "source": [
    "<font color = \"red\"> SELECT community_area_name, hardship_index <br>\n",
    "FROM census <br>\n",
    "WHERE hardship_index = (SELECT Max(hardship_index) FROM census)"
   ]
  },
  {
   "cell_type": "code",
   "execution_count": null,
   "id": "69bc308e",
   "metadata": {},
   "outputs": [],
   "source": [
    "\n",
    "highest_hardship = df_census[\"HARDSHIP_INDEX\"].max()\n",
    "most_hardship = df_census[df_census[\"HARDSHIP_INDEX\"] == highest_hardship]\n",
    "print(most_hardship[[\"COMMUNITY_AREA_NAME\", \"HARDSHIP_INDEX\"]])"
   ]
  },
  {
   "cell_type": "markdown",
   "id": "82492bed",
   "metadata": {},
   "source": [
    "# <font color = \"green\"> Query 10: Use a sub-query to determine the Community Area Name with most number of crimes."
   ]
  },
  {
   "cell_type": "markdown",
   "id": "4a82bc52",
   "metadata": {},
   "source": [
    "<font color = \"red\"> SELECT community_area_name FROM census <br>\n",
    "WHERE community_area_name = (SELECT community_area_number <br> \n",
    "    FROM (<br>\n",
    "        SELECT community_area_number, COUNT(*) AS crime_count FROM CRIME <br>\n",
    "        GROUP BY community_number <br>\n",
    "        ORDER BY crime_count DESC <br>\n",
    "        LIMIT 1 <br>\n",
    "    ) AS Subquery\n",
    ");"
   ]
  },
  {
   "cell_type": "code",
   "execution_count": null,
   "id": "e163f869",
   "metadata": {},
   "outputs": [],
   "source": [
    "crime_prone = df_crime.groupby(\"COMMUNITY_AREA_NUMBER\").size()\n",
    "most_crime = crime_prone[crime_prone == crime_prone.max()]\n",
    "most_crime_areas = most_crime.index"
   ]
  },
  {
   "cell_type": "markdown",
   "id": "581d61e3",
   "metadata": {},
   "source": [
    "## Conclusion\n",
    "\n",
    "Thank you for reviewing this notebook. This exercise served as a practical lesson in utilizing pandas for data manipulation and leveraging Jupyter Notebook for documentation. As I progress through the Coursera IBM Data Science Professional Certificate, I am actively applying the concepts learned in each module through hands-on implementation."
   ]
  }
 ],
 "metadata": {
  "kernelspec": {
   "display_name": "Python 3",
   "language": "python",
   "name": "python3"
  },
  "language_info": {
   "codemirror_mode": {
    "name": "ipython",
    "version": 3
   },
   "file_extension": ".py",
   "mimetype": "text/x-python",
   "name": "python",
   "nbconvert_exporter": "python",
   "pygments_lexer": "ipython3",
   "version": "3.11.2"
  }
 },
 "nbformat": 4,
 "nbformat_minor": 5
}
